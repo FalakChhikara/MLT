{
  "nbformat": 4,
  "nbformat_minor": 0,
  "metadata": {
    "colab": {
      "name": "Untitled9.ipynb",
      "provenance": [],
      "toc_visible": true
    },
    "kernelspec": {
      "name": "python3",
      "display_name": "Python 3"
    },
    "accelerator": "GPU"
  },
  "cells": [
    {
      "cell_type": "code",
      "metadata": {
        "id": "hmQvGSyXfde8",
        "colab_type": "code",
        "outputId": "7b4b998b-ffcc-46f9-9cea-183078dbf132",
        "colab": {
          "base_uri": "https://localhost:8080/",
          "height": 34
        }
      },
      "source": [
        "import os, sys\n",
        "\n",
        "from keras.models import Model\n",
        "from keras.layers import Input, LSTM, GRU, Dense, Embedding,Bidirectional, RepeatVector, Concatenate, Activation, Dot, Lambda\n",
        "from keras.preprocessing.text import Tokenizer\n",
        "from keras.preprocessing.sequence import pad_sequences\n",
        "import keras.backend as K\n",
        "import numpy as np\n",
        "import matplotlib.pyplot as plt\n",
        "from keras.callbacks import ModelCheckpoint"
      ],
      "execution_count": 1,
      "outputs": [
        {
          "output_type": "stream",
          "text": [
            "Using TensorFlow backend.\n"
          ],
          "name": "stderr"
        }
      ]
    },
    {
      "cell_type": "code",
      "metadata": {
        "id": "8w8zKs_dguRe",
        "colab_type": "code",
        "colab": {}
      },
      "source": [
        "BATCH_SIZE = 64\n",
        "EPOCHS = 30\n",
        "LATENT_DIM = 400\n",
        "LATENT_DIM_DECODER = 400 \n",
        "NUM_SAMPLES = 20000\n",
        "MAX_SEQUENCE_LENGTH = 100\n",
        "MAX_NUM_WORDS = 20000\n",
        "EMBEDDING_DIM = 50"
      ],
      "execution_count": 0,
      "outputs": []
    },
    {
      "cell_type": "markdown",
      "metadata": {
        "id": "6EF8n6P_hcT9",
        "colab_type": "text"
      },
      "source": [
        "## **Input**"
      ]
    },
    {
      "cell_type": "code",
      "metadata": {
        "id": "a1_WshSbg-Vi",
        "colab_type": "code",
        "colab": {}
      },
      "source": [
        "input_texts = [] \n",
        "target_texts = [] \n",
        "target_texts_inputs = [] "
      ],
      "execution_count": 0,
      "outputs": []
    },
    {
      "cell_type": "code",
      "metadata": {
        "id": "Q8h-YTHchAjJ",
        "colab_type": "code",
        "colab": {}
      },
      "source": [
        "t = 0\n",
        "for line in open('/content/drive/My Drive/Colab Notebooks/fra.txt'):  # path of file \n",
        "  # only keep a limited number of samples as dataset is large\n",
        "  t += 1\n",
        "  if t > NUM_SAMPLES:\n",
        "    break\n",
        "\n",
        "  # input and target are separated by tab\n",
        "  if '\\t' not in line:\n",
        "    continue\n",
        "\n",
        "  # split up the input and translation\n",
        "  input_text, translation, *rest = line.rstrip().split('\\t')\n",
        "\n",
        "  # make the target input and output\n",
        "  target_text = translation + ' <eos>'\n",
        "  target_text_input = '<sos> ' + translation\n",
        "\n",
        "  input_texts.append(input_text)\n",
        "  target_texts.append(target_text)\n",
        "  target_texts_inputs.append(target_text_input)"
      ],
      "execution_count": 0,
      "outputs": []
    },
    {
      "cell_type": "code",
      "metadata": {
        "id": "UxZSw2TPhP27",
        "colab_type": "code",
        "outputId": "562b8bed-bd80-4728-fe72-658f2164fe4f",
        "colab": {
          "base_uri": "https://localhost:8080/",
          "height": 34
        }
      },
      "source": [
        "input_texts[55]"
      ],
      "execution_count": 5,
      "outputs": [
        {
          "output_type": "execute_result",
          "data": {
            "text/plain": [
              "\"I'm OK.\""
            ]
          },
          "metadata": {
            "tags": []
          },
          "execution_count": 5
        }
      ]
    },
    {
      "cell_type": "code",
      "metadata": {
        "id": "MGHI8gTvhSx6",
        "colab_type": "code",
        "outputId": "e2be9d7b-8aac-40d0-d153-6c5c5378ce41",
        "colab": {
          "base_uri": "https://localhost:8080/",
          "height": 34
        }
      },
      "source": [
        "target_texts[55]"
      ],
      "execution_count": 6,
      "outputs": [
        {
          "output_type": "execute_result",
          "data": {
            "text/plain": [
              "'Ça va. <eos>'"
            ]
          },
          "metadata": {
            "tags": []
          },
          "execution_count": 6
        }
      ]
    },
    {
      "cell_type": "code",
      "metadata": {
        "id": "SDPCMorGhV0K",
        "colab_type": "code",
        "outputId": "0a9feac6-2c7a-4fd3-8c8a-5ef556b3a115",
        "colab": {
          "base_uri": "https://localhost:8080/",
          "height": 34
        }
      },
      "source": [
        "target_texts_inputs[55]"
      ],
      "execution_count": 7,
      "outputs": [
        {
          "output_type": "execute_result",
          "data": {
            "text/plain": [
              "'<sos> Ça va.'"
            ]
          },
          "metadata": {
            "tags": []
          },
          "execution_count": 7
        }
      ]
    },
    {
      "cell_type": "markdown",
      "metadata": {
        "id": "dVt0TjJShmZ7",
        "colab_type": "text"
      },
      "source": [
        "# **Tokenizer**"
      ]
    },
    {
      "cell_type": "code",
      "metadata": {
        "id": "xzIL6k0bhqnA",
        "colab_type": "code",
        "colab": {}
      },
      "source": [
        "tokenizer_inputs = Tokenizer(num_words=MAX_NUM_WORDS)\n",
        "tokenizer_inputs.fit_on_texts(input_texts)\n",
        "input_sequences = tokenizer_inputs.texts_to_sequences(input_texts)"
      ],
      "execution_count": 0,
      "outputs": []
    },
    {
      "cell_type": "code",
      "metadata": {
        "id": "PfTWcxQgh1xS",
        "colab_type": "code",
        "outputId": "26644ad5-8219-475b-be85-cc85ec777261",
        "colab": {
          "base_uri": "https://localhost:8080/",
          "height": 34
        }
      },
      "source": [
        "input_sequences[55]"
      ],
      "execution_count": 9,
      "outputs": [
        {
          "output_type": "execute_result",
          "data": {
            "text/plain": [
              "[6, 162]"
            ]
          },
          "metadata": {
            "tags": []
          },
          "execution_count": 9
        }
      ]
    },
    {
      "cell_type": "code",
      "metadata": {
        "id": "ZX21NH9ph4Bh",
        "colab_type": "code",
        "colab": {}
      },
      "source": [
        "word2idx_inputs = tokenizer_inputs.word_index"
      ],
      "execution_count": 0,
      "outputs": []
    },
    {
      "cell_type": "code",
      "metadata": {
        "id": "TUh_LsG-h8Jp",
        "colab_type": "code",
        "colab": {}
      },
      "source": [
        "max_len_input = max(len(s) for s in input_sequences) "
      ],
      "execution_count": 0,
      "outputs": []
    },
    {
      "cell_type": "code",
      "metadata": {
        "id": "iojGyK-IiCmA",
        "colab_type": "code",
        "outputId": "d1eb2f47-4aef-43d2-fce2-2b4bfe713eb3",
        "colab": {
          "base_uri": "https://localhost:8080/",
          "height": 34
        }
      },
      "source": [
        "max_len_input"
      ],
      "execution_count": 12,
      "outputs": [
        {
          "output_type": "execute_result",
          "data": {
            "text/plain": [
              "6"
            ]
          },
          "metadata": {
            "tags": []
          },
          "execution_count": 12
        }
      ]
    },
    {
      "cell_type": "code",
      "metadata": {
        "id": "tMBW_Z3PiED5",
        "colab_type": "code",
        "colab": {}
      },
      "source": [
        "tokenizer_outputs = Tokenizer(num_words=MAX_NUM_WORDS, filters='')\n",
        "tokenizer_outputs.fit_on_texts(target_texts + target_texts_inputs) \n",
        "target_sequences = tokenizer_outputs.texts_to_sequences(target_texts)\n",
        "target_sequences_inputs = tokenizer_outputs.texts_to_sequences(target_texts_inputs)"
      ],
      "execution_count": 0,
      "outputs": []
    },
    {
      "cell_type": "code",
      "metadata": {
        "id": "CilUqd5suL2v",
        "colab_type": "code",
        "colab": {
          "base_uri": "https://localhost:8080/",
          "height": 34
        },
        "outputId": "13a91fb0-2a5c-4a04-aa7e-a9158741be06"
      },
      "source": [
        "target_sequences[55]"
      ],
      "execution_count": 14,
      "outputs": [
        {
          "output_type": "execute_result",
          "data": {
            "text/plain": [
              "[29, 656, 1]"
            ]
          },
          "metadata": {
            "tags": []
          },
          "execution_count": 14
        }
      ]
    },
    {
      "cell_type": "code",
      "metadata": {
        "id": "TMSgE2AeuOI8",
        "colab_type": "code",
        "colab": {
          "base_uri": "https://localhost:8080/",
          "height": 34
        },
        "outputId": "63ddef46-5ef9-4d08-b978-ca9282a2c02e"
      },
      "source": [
        "target_sequences_inputs[55]"
      ],
      "execution_count": 15,
      "outputs": [
        {
          "output_type": "execute_result",
          "data": {
            "text/plain": [
              "[2, 29, 656]"
            ]
          },
          "metadata": {
            "tags": []
          },
          "execution_count": 15
        }
      ]
    },
    {
      "cell_type": "code",
      "metadata": {
        "id": "nJqQxlI5iMbY",
        "colab_type": "code",
        "colab": {}
      },
      "source": [
        "word2idx_outputs = tokenizer_outputs.word_index"
      ],
      "execution_count": 0,
      "outputs": []
    },
    {
      "cell_type": "code",
      "metadata": {
        "id": "G0YBDUGGiO84",
        "colab_type": "code",
        "colab": {}
      },
      "source": [
        "num_words_output = len(word2idx_outputs) + 1"
      ],
      "execution_count": 0,
      "outputs": []
    },
    {
      "cell_type": "code",
      "metadata": {
        "id": "4F1nAiRDiRm3",
        "colab_type": "code",
        "colab": {}
      },
      "source": [
        "max_len_target = max(len(s) for s in target_sequences)"
      ],
      "execution_count": 0,
      "outputs": []
    },
    {
      "cell_type": "markdown",
      "metadata": {
        "id": "EoACuGECilPi",
        "colab_type": "text"
      },
      "source": [
        "# **Padding**"
      ]
    },
    {
      "cell_type": "code",
      "metadata": {
        "id": "Yx2ygT0Iinp_",
        "colab_type": "code",
        "colab": {}
      },
      "source": [
        "encoder_inputs = pad_sequences(input_sequences, maxlen=max_len_input)\n",
        "\n",
        "decoder_inputs = pad_sequences(target_sequences_inputs, maxlen=max_len_target, padding='post')\n",
        "\n",
        "decoder_targets = pad_sequences(target_sequences, maxlen=max_len_target, padding='post')"
      ],
      "execution_count": 0,
      "outputs": []
    },
    {
      "cell_type": "code",
      "metadata": {
        "id": "ivHdhWifi5ZI",
        "colab_type": "code",
        "colab": {
          "base_uri": "https://localhost:8080/",
          "height": 34
        },
        "outputId": "6a106aa5-e6d1-4e6d-9abe-96b3059d0409"
      },
      "source": [
        "encoder_inputs[55]"
      ],
      "execution_count": 20,
      "outputs": [
        {
          "output_type": "execute_result",
          "data": {
            "text/plain": [
              "array([  0,   0,   0,   0,   6, 162], dtype=int32)"
            ]
          },
          "metadata": {
            "tags": []
          },
          "execution_count": 20
        }
      ]
    },
    {
      "cell_type": "code",
      "metadata": {
        "id": "ENW2dsyruR1W",
        "colab_type": "code",
        "colab": {
          "base_uri": "https://localhost:8080/",
          "height": 51
        },
        "outputId": "cf0ae5c5-0590-4c1c-97f6-2e92a92a7ce9"
      },
      "source": [
        "decoder_inputs[55]"
      ],
      "execution_count": 21,
      "outputs": [
        {
          "output_type": "execute_result",
          "data": {
            "text/plain": [
              "array([  2,  29, 656,   0,   0,   0,   0,   0,   0,   0,   0,   0,   0],\n",
              "      dtype=int32)"
            ]
          },
          "metadata": {
            "tags": []
          },
          "execution_count": 21
        }
      ]
    },
    {
      "cell_type": "code",
      "metadata": {
        "id": "pnUW5XCTuUCM",
        "colab_type": "code",
        "colab": {
          "base_uri": "https://localhost:8080/",
          "height": 51
        },
        "outputId": "410c7470-bda9-4fb6-9531-d5c0fdd0149a"
      },
      "source": [
        "decoder_targets[55]"
      ],
      "execution_count": 22,
      "outputs": [
        {
          "output_type": "execute_result",
          "data": {
            "text/plain": [
              "array([ 29, 656,   1,   0,   0,   0,   0,   0,   0,   0,   0,   0,   0],\n",
              "      dtype=int32)"
            ]
          },
          "metadata": {
            "tags": []
          },
          "execution_count": 22
        }
      ]
    },
    {
      "cell_type": "markdown",
      "metadata": {
        "id": "7eRrJ4rqjXmS",
        "colab_type": "text"
      },
      "source": [
        "# **Embedding**"
      ]
    },
    {
      "cell_type": "code",
      "metadata": {
        "id": "JZ-5DPI7jZ9t",
        "colab_type": "code",
        "outputId": "609683a5-e044-474d-ba60-a76656dbe5a3",
        "colab": {
          "base_uri": "https://localhost:8080/",
          "height": 34
        }
      },
      "source": [
        "word2vec = {}\n",
        "with open(os.path.join('/content/drive/My Drive/Colab Notebooks/glove.6B.50d.txt' )) as f:\n",
        "  for line in f:\n",
        "    values = line.split()\n",
        "    word = values[0]\n",
        "    vec = np.asarray(values[1:], dtype='float32')\n",
        "    word2vec[word] = vec\n",
        "print('Found %s word vectors.' % len(word2vec))"
      ],
      "execution_count": 23,
      "outputs": [
        {
          "output_type": "stream",
          "text": [
            "Found 400000 word vectors.\n"
          ],
          "name": "stdout"
        }
      ]
    },
    {
      "cell_type": "code",
      "metadata": {
        "id": "BN2984cVjocm",
        "colab_type": "code",
        "outputId": "475acc8f-2e58-45cc-a526-12b7fd84908e",
        "colab": {
          "base_uri": "https://localhost:8080/",
          "height": 34
        }
      },
      "source": [
        "print('Filling pre-trained embeddings...')\n",
        "num_words = min(MAX_NUM_WORDS, len(word2idx_inputs) + 1)\n",
        "embedding_matrix = np.zeros((num_words, EMBEDDING_DIM)) # words not found in embedding index will be all zeros.\n",
        "\n",
        "for word, i in word2idx_inputs.items():\n",
        "  if i < MAX_NUM_WORDS:\n",
        "    embedding_vector = word2vec.get(word)\n",
        "    if embedding_vector is not None:\n",
        "      embedding_matrix[i] = embedding_vector"
      ],
      "execution_count": 24,
      "outputs": [
        {
          "output_type": "stream",
          "text": [
            "Filling pre-trained embeddings...\n"
          ],
          "name": "stdout"
        }
      ]
    },
    {
      "cell_type": "code",
      "metadata": {
        "id": "OWGx-M12j4vt",
        "colab_type": "code",
        "colab": {}
      },
      "source": [
        "embedding_layer = Embedding(\n",
        "  num_words,\n",
        "  EMBEDDING_DIM,\n",
        "  weights=[embedding_matrix],\n",
        "  input_length=max_len_input,\n",
        "  # trainable=True\n",
        ")"
      ],
      "execution_count": 0,
      "outputs": []
    },
    {
      "cell_type": "markdown",
      "metadata": {
        "id": "38u4b3sjkPVI",
        "colab_type": "text"
      },
      "source": [
        "# **OHE**"
      ]
    },
    {
      "cell_type": "code",
      "metadata": {
        "id": "zckIiOAHkS2z",
        "colab_type": "code",
        "colab": {}
      },
      "source": [
        "decoder_targets_one_hot = np.zeros(\n",
        "  (\n",
        "    len(input_texts),\n",
        "    max_len_target,\n",
        "    num_words_output\n",
        "  ),\n",
        "  dtype='float32'\n",
        ")\n",
        "\n",
        "# assign the values\n",
        "for i, d in enumerate(decoder_targets):\n",
        "  for t, word in enumerate(d):\n",
        "    if word > 0:\n",
        "      decoder_targets_one_hot[i, t, word] = 1"
      ],
      "execution_count": 0,
      "outputs": []
    },
    {
      "cell_type": "markdown",
      "metadata": {
        "id": "hhKsuNh8kh3v",
        "colab_type": "text"
      },
      "source": [
        "# **Model**"
      ]
    },
    {
      "cell_type": "code",
      "metadata": {
        "id": "kpyhsn6TkkQr",
        "colab_type": "code",
        "colab": {}
      },
      "source": [
        "encoder_inputs_placeholder = Input(shape=(max_len_input,))\n",
        "x = embedding_layer(encoder_inputs_placeholder)\n",
        "encoder = Bidirectional(LSTM(\n",
        "  LATENT_DIM,\n",
        "  return_sequences=True,\n",
        "  # dropout=0.5 \n",
        "))\n",
        "encoder_outputs = encoder(x)\n"
      ],
      "execution_count": 0,
      "outputs": []
    },
    {
      "cell_type": "code",
      "metadata": {
        "id": "2E16K-PRmNWe",
        "colab_type": "code",
        "colab": {}
      },
      "source": [
        " def softmax_over_time(x):\n",
        "        assert(K.ndim(x) > 2)\n",
        "        e = K.exp(x - K.max(x, axis=1, keepdims=True))\n",
        "        s = K.sum(e, axis=1, keepdims=True)\n",
        "        return e / s"
      ],
      "execution_count": 0,
      "outputs": []
    },
    {
      "cell_type": "code",
      "metadata": {
        "id": "lznsv4n7mFsx",
        "colab_type": "code",
        "colab": {}
      },
      "source": [
        "attn_repeat_layer = RepeatVector(max_len_input)\n",
        "attn_concat_layer = Concatenate(axis=-1)\n",
        "attn_dense1 = Dense(10, activation='tanh')\n",
        "attn_dense2 = Dense(1, activation=softmax_over_time)\n",
        "attn_dot = Dot(axes=1) "
      ],
      "execution_count": 0,
      "outputs": []
    },
    {
      "cell_type": "code",
      "metadata": {
        "id": "_WzLa8kgmSBA",
        "colab_type": "code",
        "colab": {}
      },
      "source": [
        "def one_step_attention(h, st_1):\n",
        " \n",
        "  st_1 = attn_repeat_layer(st_1)\n",
        "\n",
        "  x = attn_concat_layer([h, st_1])\n",
        "\n",
        "  x = attn_dense1(x)\n",
        "\n",
        "  alphas = attn_dense2(x)\n",
        "\n",
        "  context = attn_dot([alphas, h])\n",
        "\n",
        "  return context"
      ],
      "execution_count": 0,
      "outputs": []
    },
    {
      "cell_type": "code",
      "metadata": {
        "id": "gUrfYscvo-Hg",
        "colab_type": "code",
        "colab": {}
      },
      "source": [
        "decoder_inputs_placeholder = Input(shape=(max_len_target,))\n",
        "\n",
        "decoder_embedding = Embedding(num_words_output, EMBEDDING_DIM)\n",
        "decoder_inputs_x = decoder_embedding(decoder_inputs_placeholder)\n",
        "\n",
        "decoder_lstm = LSTM(LATENT_DIM_DECODER, return_state=True)\n",
        "decoder_dense = Dense(num_words_output, activation='softmax')"
      ],
      "execution_count": 0,
      "outputs": []
    },
    {
      "cell_type": "code",
      "metadata": {
        "id": "_rC-NG91pKhL",
        "colab_type": "code",
        "colab": {}
      },
      "source": [
        "initial_s = Input(shape=(LATENT_DIM_DECODER,), name='s0')\n",
        "initial_c = Input(shape=(LATENT_DIM_DECODER,), name='c0')\n",
        "context_last_word_concat_layer = Concatenate(axis=2)"
      ],
      "execution_count": 0,
      "outputs": []
    },
    {
      "cell_type": "code",
      "metadata": {
        "id": "lLwtc7ULpYWZ",
        "colab_type": "code",
        "colab": {}
      },
      "source": [
        "s = initial_s\n",
        "c = initial_c"
      ],
      "execution_count": 0,
      "outputs": []
    },
    {
      "cell_type": "code",
      "metadata": {
        "id": "5GCoolJKpc5S",
        "colab_type": "code",
        "colab": {}
      },
      "source": [
        "outputs = []\n",
        "for t in range(max_len_target): \n",
        "  # get the context using attention\n",
        "  context = one_step_attention(encoder_outputs, s)\n",
        "\n",
        "  selector = Lambda(lambda x: x[:, t:t+1])\n",
        "  xt = selector(decoder_inputs_x)\n",
        "  \n",
        "  decoder_lstm_input = context_last_word_concat_layer([context, xt])\n",
        "\n",
        "  o, s, c = decoder_lstm(decoder_lstm_input, initial_state=[s, c])\n",
        "\n",
        "  decoder_outputs = decoder_dense(o)\n",
        "  outputs.append(decoder_outputs)\n",
        "\n",
        "\n"
      ],
      "execution_count": 0,
      "outputs": []
    },
    {
      "cell_type": "code",
      "metadata": {
        "id": "vLaegznrqTnH",
        "colab_type": "code",
        "colab": {}
      },
      "source": [
        "# 'outputs' is now a list of length Ty\n",
        "# each element is of shape (batch size, output vocab size)\n",
        "# therefore if we simply stack all the outputs into 1 tensor\n",
        "# it would be of shape T x N x D\n",
        "# we would like it to be of shape N x T x D\n",
        "\n",
        "def stack_and_transpose(x):\n",
        "  # x is a list of length T, each element is a batch_size x output_vocab_size tensor\n",
        "  x = K.stack(x) # is now T x batch_size x output_vocab_size tensor\n",
        "  x = K.permute_dimensions(x, pattern=(1, 0, 2)) # is now batch_size x T x output_vocab_size\n",
        "  return x"
      ],
      "execution_count": 0,
      "outputs": []
    },
    {
      "cell_type": "code",
      "metadata": {
        "id": "Etc23nhqqWFv",
        "colab_type": "code",
        "colab": {}
      },
      "source": [
        "stacker = Lambda(stack_and_transpose)\n",
        "outputs = stacker(outputs)"
      ],
      "execution_count": 0,
      "outputs": []
    },
    {
      "cell_type": "code",
      "metadata": {
        "id": "KAkPDtVNqYtB",
        "colab_type": "code",
        "colab": {}
      },
      "source": [
        "model = Model(\n",
        "  inputs=[\n",
        "    encoder_inputs_placeholder,\n",
        "    decoder_inputs_placeholder,\n",
        "    initial_s, \n",
        "    initial_c,\n",
        "  ],\n",
        "  outputs=outputs\n",
        ")"
      ],
      "execution_count": 0,
      "outputs": []
    },
    {
      "cell_type": "code",
      "metadata": {
        "id": "gJs38LZ1qd_f",
        "colab_type": "code",
        "outputId": "45e49685-24f7-4010-abc8-e4072801a15c",
        "colab": {
          "base_uri": "https://localhost:8080/",
          "height": 1000
        }
      },
      "source": [
        "model.summary()"
      ],
      "execution_count": 38,
      "outputs": [
        {
          "output_type": "stream",
          "text": [
            "Model: \"model_1\"\n",
            "__________________________________________________________________________________________________\n",
            "Layer (type)                    Output Shape         Param #     Connected to                     \n",
            "==================================================================================================\n",
            "input_1 (InputLayer)            (None, 6)            0                                            \n",
            "__________________________________________________________________________________________________\n",
            "embedding_1 (Embedding)         (None, 6, 50)        175750      input_1[0][0]                    \n",
            "__________________________________________________________________________________________________\n",
            "s0 (InputLayer)                 (None, 400)          0                                            \n",
            "__________________________________________________________________________________________________\n",
            "bidirectional_1 (Bidirectional) (None, 6, 800)       1443200     embedding_1[0][0]                \n",
            "__________________________________________________________________________________________________\n",
            "repeat_vector_1 (RepeatVector)  (None, 6, 400)       0           s0[0][0]                         \n",
            "                                                                 lstm_2[0][1]                     \n",
            "                                                                 lstm_2[1][1]                     \n",
            "                                                                 lstm_2[2][1]                     \n",
            "                                                                 lstm_2[3][1]                     \n",
            "                                                                 lstm_2[4][1]                     \n",
            "                                                                 lstm_2[5][1]                     \n",
            "                                                                 lstm_2[6][1]                     \n",
            "                                                                 lstm_2[7][1]                     \n",
            "                                                                 lstm_2[8][1]                     \n",
            "                                                                 lstm_2[9][1]                     \n",
            "                                                                 lstm_2[10][1]                    \n",
            "                                                                 lstm_2[11][1]                    \n",
            "__________________________________________________________________________________________________\n",
            "concatenate_1 (Concatenate)     (None, 6, 1200)      0           bidirectional_1[0][0]            \n",
            "                                                                 repeat_vector_1[0][0]            \n",
            "                                                                 bidirectional_1[0][0]            \n",
            "                                                                 repeat_vector_1[1][0]            \n",
            "                                                                 bidirectional_1[0][0]            \n",
            "                                                                 repeat_vector_1[2][0]            \n",
            "                                                                 bidirectional_1[0][0]            \n",
            "                                                                 repeat_vector_1[3][0]            \n",
            "                                                                 bidirectional_1[0][0]            \n",
            "                                                                 repeat_vector_1[4][0]            \n",
            "                                                                 bidirectional_1[0][0]            \n",
            "                                                                 repeat_vector_1[5][0]            \n",
            "                                                                 bidirectional_1[0][0]            \n",
            "                                                                 repeat_vector_1[6][0]            \n",
            "                                                                 bidirectional_1[0][0]            \n",
            "                                                                 repeat_vector_1[7][0]            \n",
            "                                                                 bidirectional_1[0][0]            \n",
            "                                                                 repeat_vector_1[8][0]            \n",
            "                                                                 bidirectional_1[0][0]            \n",
            "                                                                 repeat_vector_1[9][0]            \n",
            "                                                                 bidirectional_1[0][0]            \n",
            "                                                                 repeat_vector_1[10][0]           \n",
            "                                                                 bidirectional_1[0][0]            \n",
            "                                                                 repeat_vector_1[11][0]           \n",
            "                                                                 bidirectional_1[0][0]            \n",
            "                                                                 repeat_vector_1[12][0]           \n",
            "__________________________________________________________________________________________________\n",
            "dense_1 (Dense)                 (None, 6, 10)        12010       concatenate_1[0][0]              \n",
            "                                                                 concatenate_1[1][0]              \n",
            "                                                                 concatenate_1[2][0]              \n",
            "                                                                 concatenate_1[3][0]              \n",
            "                                                                 concatenate_1[4][0]              \n",
            "                                                                 concatenate_1[5][0]              \n",
            "                                                                 concatenate_1[6][0]              \n",
            "                                                                 concatenate_1[7][0]              \n",
            "                                                                 concatenate_1[8][0]              \n",
            "                                                                 concatenate_1[9][0]              \n",
            "                                                                 concatenate_1[10][0]             \n",
            "                                                                 concatenate_1[11][0]             \n",
            "                                                                 concatenate_1[12][0]             \n",
            "__________________________________________________________________________________________________\n",
            "input_2 (InputLayer)            (None, 13)           0                                            \n",
            "__________________________________________________________________________________________________\n",
            "dense_2 (Dense)                 (None, 6, 1)         11          dense_1[0][0]                    \n",
            "                                                                 dense_1[1][0]                    \n",
            "                                                                 dense_1[2][0]                    \n",
            "                                                                 dense_1[3][0]                    \n",
            "                                                                 dense_1[4][0]                    \n",
            "                                                                 dense_1[5][0]                    \n",
            "                                                                 dense_1[6][0]                    \n",
            "                                                                 dense_1[7][0]                    \n",
            "                                                                 dense_1[8][0]                    \n",
            "                                                                 dense_1[9][0]                    \n",
            "                                                                 dense_1[10][0]                   \n",
            "                                                                 dense_1[11][0]                   \n",
            "                                                                 dense_1[12][0]                   \n",
            "__________________________________________________________________________________________________\n",
            "embedding_2 (Embedding)         (None, 13, 50)       476650      input_2[0][0]                    \n",
            "__________________________________________________________________________________________________\n",
            "dot_1 (Dot)                     (None, 1, 800)       0           dense_2[0][0]                    \n",
            "                                                                 bidirectional_1[0][0]            \n",
            "                                                                 dense_2[1][0]                    \n",
            "                                                                 bidirectional_1[0][0]            \n",
            "                                                                 dense_2[2][0]                    \n",
            "                                                                 bidirectional_1[0][0]            \n",
            "                                                                 dense_2[3][0]                    \n",
            "                                                                 bidirectional_1[0][0]            \n",
            "                                                                 dense_2[4][0]                    \n",
            "                                                                 bidirectional_1[0][0]            \n",
            "                                                                 dense_2[5][0]                    \n",
            "                                                                 bidirectional_1[0][0]            \n",
            "                                                                 dense_2[6][0]                    \n",
            "                                                                 bidirectional_1[0][0]            \n",
            "                                                                 dense_2[7][0]                    \n",
            "                                                                 bidirectional_1[0][0]            \n",
            "                                                                 dense_2[8][0]                    \n",
            "                                                                 bidirectional_1[0][0]            \n",
            "                                                                 dense_2[9][0]                    \n",
            "                                                                 bidirectional_1[0][0]            \n",
            "                                                                 dense_2[10][0]                   \n",
            "                                                                 bidirectional_1[0][0]            \n",
            "                                                                 dense_2[11][0]                   \n",
            "                                                                 bidirectional_1[0][0]            \n",
            "                                                                 dense_2[12][0]                   \n",
            "                                                                 bidirectional_1[0][0]            \n",
            "__________________________________________________________________________________________________\n",
            "lambda_1 (Lambda)               (None, 1, 50)        0           embedding_2[0][0]                \n",
            "__________________________________________________________________________________________________\n",
            "concatenate_2 (Concatenate)     (None, 1, 850)       0           dot_1[0][0]                      \n",
            "                                                                 lambda_1[0][0]                   \n",
            "                                                                 dot_1[1][0]                      \n",
            "                                                                 lambda_2[0][0]                   \n",
            "                                                                 dot_1[2][0]                      \n",
            "                                                                 lambda_3[0][0]                   \n",
            "                                                                 dot_1[3][0]                      \n",
            "                                                                 lambda_4[0][0]                   \n",
            "                                                                 dot_1[4][0]                      \n",
            "                                                                 lambda_5[0][0]                   \n",
            "                                                                 dot_1[5][0]                      \n",
            "                                                                 lambda_6[0][0]                   \n",
            "                                                                 dot_1[6][0]                      \n",
            "                                                                 lambda_7[0][0]                   \n",
            "                                                                 dot_1[7][0]                      \n",
            "                                                                 lambda_8[0][0]                   \n",
            "                                                                 dot_1[8][0]                      \n",
            "                                                                 lambda_9[0][0]                   \n",
            "                                                                 dot_1[9][0]                      \n",
            "                                                                 lambda_10[0][0]                  \n",
            "                                                                 dot_1[10][0]                     \n",
            "                                                                 lambda_11[0][0]                  \n",
            "                                                                 dot_1[11][0]                     \n",
            "                                                                 lambda_12[0][0]                  \n",
            "                                                                 dot_1[12][0]                     \n",
            "                                                                 lambda_13[0][0]                  \n",
            "__________________________________________________________________________________________________\n",
            "c0 (InputLayer)                 (None, 400)          0                                            \n",
            "__________________________________________________________________________________________________\n",
            "lstm_2 (LSTM)                   [(None, 400), (None, 2001600     concatenate_2[0][0]              \n",
            "                                                                 s0[0][0]                         \n",
            "                                                                 c0[0][0]                         \n",
            "                                                                 concatenate_2[1][0]              \n",
            "                                                                 lstm_2[0][1]                     \n",
            "                                                                 lstm_2[0][2]                     \n",
            "                                                                 concatenate_2[2][0]              \n",
            "                                                                 lstm_2[1][1]                     \n",
            "                                                                 lstm_2[1][2]                     \n",
            "                                                                 concatenate_2[3][0]              \n",
            "                                                                 lstm_2[2][1]                     \n",
            "                                                                 lstm_2[2][2]                     \n",
            "                                                                 concatenate_2[4][0]              \n",
            "                                                                 lstm_2[3][1]                     \n",
            "                                                                 lstm_2[3][2]                     \n",
            "                                                                 concatenate_2[5][0]              \n",
            "                                                                 lstm_2[4][1]                     \n",
            "                                                                 lstm_2[4][2]                     \n",
            "                                                                 concatenate_2[6][0]              \n",
            "                                                                 lstm_2[5][1]                     \n",
            "                                                                 lstm_2[5][2]                     \n",
            "                                                                 concatenate_2[7][0]              \n",
            "                                                                 lstm_2[6][1]                     \n",
            "                                                                 lstm_2[6][2]                     \n",
            "                                                                 concatenate_2[8][0]              \n",
            "                                                                 lstm_2[7][1]                     \n",
            "                                                                 lstm_2[7][2]                     \n",
            "                                                                 concatenate_2[9][0]              \n",
            "                                                                 lstm_2[8][1]                     \n",
            "                                                                 lstm_2[8][2]                     \n",
            "                                                                 concatenate_2[10][0]             \n",
            "                                                                 lstm_2[9][1]                     \n",
            "                                                                 lstm_2[9][2]                     \n",
            "                                                                 concatenate_2[11][0]             \n",
            "                                                                 lstm_2[10][1]                    \n",
            "                                                                 lstm_2[10][2]                    \n",
            "                                                                 concatenate_2[12][0]             \n",
            "                                                                 lstm_2[11][1]                    \n",
            "                                                                 lstm_2[11][2]                    \n",
            "__________________________________________________________________________________________________\n",
            "lambda_2 (Lambda)               (None, 1, 50)        0           embedding_2[0][0]                \n",
            "__________________________________________________________________________________________________\n",
            "lambda_3 (Lambda)               (None, 1, 50)        0           embedding_2[0][0]                \n",
            "__________________________________________________________________________________________________\n",
            "lambda_4 (Lambda)               (None, 1, 50)        0           embedding_2[0][0]                \n",
            "__________________________________________________________________________________________________\n",
            "lambda_5 (Lambda)               (None, 1, 50)        0           embedding_2[0][0]                \n",
            "__________________________________________________________________________________________________\n",
            "lambda_6 (Lambda)               (None, 1, 50)        0           embedding_2[0][0]                \n",
            "__________________________________________________________________________________________________\n",
            "lambda_7 (Lambda)               (None, 1, 50)        0           embedding_2[0][0]                \n",
            "__________________________________________________________________________________________________\n",
            "lambda_8 (Lambda)               (None, 1, 50)        0           embedding_2[0][0]                \n",
            "__________________________________________________________________________________________________\n",
            "lambda_9 (Lambda)               (None, 1, 50)        0           embedding_2[0][0]                \n",
            "__________________________________________________________________________________________________\n",
            "lambda_10 (Lambda)              (None, 1, 50)        0           embedding_2[0][0]                \n",
            "__________________________________________________________________________________________________\n",
            "lambda_11 (Lambda)              (None, 1, 50)        0           embedding_2[0][0]                \n",
            "__________________________________________________________________________________________________\n",
            "lambda_12 (Lambda)              (None, 1, 50)        0           embedding_2[0][0]                \n",
            "__________________________________________________________________________________________________\n",
            "lambda_13 (Lambda)              (None, 1, 50)        0           embedding_2[0][0]                \n",
            "__________________________________________________________________________________________________\n",
            "dense_3 (Dense)                 (None, 9533)         3822733     lstm_2[0][0]                     \n",
            "                                                                 lstm_2[1][0]                     \n",
            "                                                                 lstm_2[2][0]                     \n",
            "                                                                 lstm_2[3][0]                     \n",
            "                                                                 lstm_2[4][0]                     \n",
            "                                                                 lstm_2[5][0]                     \n",
            "                                                                 lstm_2[6][0]                     \n",
            "                                                                 lstm_2[7][0]                     \n",
            "                                                                 lstm_2[8][0]                     \n",
            "                                                                 lstm_2[9][0]                     \n",
            "                                                                 lstm_2[10][0]                    \n",
            "                                                                 lstm_2[11][0]                    \n",
            "                                                                 lstm_2[12][0]                    \n",
            "__________________________________________________________________________________________________\n",
            "lambda_14 (Lambda)              (None, 13, 9533)     0           dense_3[0][0]                    \n",
            "                                                                 dense_3[1][0]                    \n",
            "                                                                 dense_3[2][0]                    \n",
            "                                                                 dense_3[3][0]                    \n",
            "                                                                 dense_3[4][0]                    \n",
            "                                                                 dense_3[5][0]                    \n",
            "                                                                 dense_3[6][0]                    \n",
            "                                                                 dense_3[7][0]                    \n",
            "                                                                 dense_3[8][0]                    \n",
            "                                                                 dense_3[9][0]                    \n",
            "                                                                 dense_3[10][0]                   \n",
            "                                                                 dense_3[11][0]                   \n",
            "                                                                 dense_3[12][0]                   \n",
            "==================================================================================================\n",
            "Total params: 7,931,954\n",
            "Trainable params: 7,931,954\n",
            "Non-trainable params: 0\n",
            "__________________________________________________________________________________________________\n"
          ],
          "name": "stdout"
        }
      ]
    },
    {
      "cell_type": "code",
      "metadata": {
        "id": "kepGOuM7qf3h",
        "colab_type": "code",
        "colab": {}
      },
      "source": [
        "def custom_loss(y_true, y_pred):\n",
        "  # both are of shape N x T x K\n",
        "  mask = K.cast(y_true > 0, dtype='float32')\n",
        "  out = mask * y_true * K.log(y_pred)\n",
        "  return -K.sum(out) / K.sum(mask)\n",
        "\n",
        "\n",
        "def acc(y_true, y_pred):\n",
        "  # both are of shape N x T x K\n",
        "  targ = K.argmax(y_true, axis=-1)\n",
        "  pred = K.argmax(y_pred, axis=-1)\n",
        "  correct = K.cast(K.equal(targ, pred), dtype='float32')\n",
        "\n",
        "  # 0 is padding, don't include those\n",
        "  mask = K.cast(K.greater(targ, 0), dtype='float32')\n",
        "  n_correct = K.sum(mask * correct)\n",
        "  n_total = K.sum(mask)\n",
        "  return n_correct / n_total"
      ],
      "execution_count": 0,
      "outputs": []
    },
    {
      "cell_type": "code",
      "metadata": {
        "id": "BVU4x4KZrUm-",
        "colab_type": "code",
        "colab": {}
      },
      "source": [
        "model.compile(optimizer='adam', loss=custom_loss, metrics=[acc])"
      ],
      "execution_count": 0,
      "outputs": []
    },
    {
      "cell_type": "code",
      "metadata": {
        "id": "bWbmMBAZt-zJ",
        "colab_type": "code",
        "colab": {}
      },
      "source": [
        "\n",
        "checkpoint_name = 'Weights-{epoch:03d}--{val_loss:.5f}.hdf5' \n",
        "checkpoint = ModelCheckpoint(checkpoint_name, monitor='val_loss', verbose = 1, save_best_only = True, mode ='auto')\n",
        "callbacks_list = [checkpoint]"
      ],
      "execution_count": 0,
      "outputs": []
    },
    {
      "cell_type": "code",
      "metadata": {
        "id": "SpM4yO0CrYTm",
        "colab_type": "code",
        "outputId": "9fc47ff0-b436-492b-bb35-01ae64573c94",
        "colab": {
          "base_uri": "https://localhost:8080/",
          "height": 1000
        }
      },
      "source": [
        "z = np.zeros((len(encoder_inputs), LATENT_DIM_DECODER)) # initial [s, c]\n",
        "r = model.fit(\n",
        "  [encoder_inputs, decoder_inputs, z, z], decoder_targets_one_hot,\n",
        "  batch_size=BATCH_SIZE,\n",
        "  epochs=EPOCHS,\n",
        "  validation_split=0.2,\n",
        "  callbacks = callbacks_list\n",
        ")"
      ],
      "execution_count": 42,
      "outputs": [
        {
          "output_type": "stream",
          "text": [
            "/usr/local/lib/python3.6/dist-packages/tensorflow/python/framework/indexed_slices.py:434: UserWarning: Converting sparse IndexedSlices to a dense Tensor of unknown shape. This may consume a large amount of memory.\n",
            "  \"Converting sparse IndexedSlices to a dense Tensor of unknown shape. \"\n"
          ],
          "name": "stderr"
        },
        {
          "output_type": "stream",
          "text": [
            "Train on 16000 samples, validate on 4000 samples\n",
            "Epoch 1/30\n",
            "16000/16000 [==============================] - 49s 3ms/step - loss: 5.9442 - acc: 0.2440 - val_loss: 5.8804 - val_acc: 0.2308\n",
            "\n",
            "Epoch 00001: val_loss improved from inf to 5.88045, saving model to Weights-001--5.88045.hdf5\n",
            "Epoch 2/30\n",
            "16000/16000 [==============================] - 41s 3ms/step - loss: 5.1204 - acc: 0.2767 - val_loss: 5.5451 - val_acc: 0.2340\n",
            "\n",
            "Epoch 00002: val_loss improved from 5.88045 to 5.54508, saving model to Weights-002--5.54508.hdf5\n",
            "Epoch 3/30\n",
            "16000/16000 [==============================] - 39s 2ms/step - loss: 4.7151 - acc: 0.2950 - val_loss: 5.1026 - val_acc: 0.2829\n",
            "\n",
            "Epoch 00003: val_loss improved from 5.54508 to 5.10261, saving model to Weights-003--5.10261.hdf5\n",
            "Epoch 4/30\n",
            "16000/16000 [==============================] - 40s 3ms/step - loss: 3.9995 - acc: 0.3896 - val_loss: 4.4139 - val_acc: 0.3835\n",
            "\n",
            "Epoch 00004: val_loss improved from 5.10261 to 4.41389, saving model to Weights-004--4.41389.hdf5\n",
            "Epoch 5/30\n",
            "16000/16000 [==============================] - 40s 2ms/step - loss: 3.2858 - acc: 0.4774 - val_loss: 4.0924 - val_acc: 0.4237\n",
            "\n",
            "Epoch 00005: val_loss improved from 4.41389 to 4.09242, saving model to Weights-005--4.09242.hdf5\n",
            "Epoch 6/30\n",
            "16000/16000 [==============================] - 40s 3ms/step - loss: 2.7792 - acc: 0.5206 - val_loss: 3.9362 - val_acc: 0.4491\n",
            "\n",
            "Epoch 00006: val_loss improved from 4.09242 to 3.93616, saving model to Weights-006--3.93616.hdf5\n",
            "Epoch 7/30\n",
            "16000/16000 [==============================] - 40s 2ms/step - loss: 2.3567 - acc: 0.5551 - val_loss: 3.8409 - val_acc: 0.4617\n",
            "\n",
            "Epoch 00007: val_loss improved from 3.93616 to 3.84089, saving model to Weights-007--3.84089.hdf5\n",
            "Epoch 8/30\n",
            "16000/16000 [==============================] - 40s 2ms/step - loss: 1.9948 - acc: 0.5910 - val_loss: 3.7865 - val_acc: 0.4685\n",
            "\n",
            "Epoch 00008: val_loss improved from 3.84089 to 3.78646, saving model to Weights-008--3.78646.hdf5\n",
            "Epoch 9/30\n",
            "16000/16000 [==============================] - 41s 3ms/step - loss: 1.6793 - acc: 0.6272 - val_loss: 3.7409 - val_acc: 0.4784\n",
            "\n",
            "Epoch 00009: val_loss improved from 3.78646 to 3.74090, saving model to Weights-009--3.74090.hdf5\n",
            "Epoch 10/30\n",
            "16000/16000 [==============================] - 40s 3ms/step - loss: 1.4120 - acc: 0.6675 - val_loss: 3.7295 - val_acc: 0.4833\n",
            "\n",
            "Epoch 00010: val_loss improved from 3.74090 to 3.72954, saving model to Weights-010--3.72954.hdf5\n",
            "Epoch 11/30\n",
            "16000/16000 [==============================] - 41s 3ms/step - loss: 1.1920 - acc: 0.7040 - val_loss: 3.7219 - val_acc: 0.4842\n",
            "\n",
            "Epoch 00011: val_loss improved from 3.72954 to 3.72189, saving model to Weights-011--3.72189.hdf5\n",
            "Epoch 12/30\n",
            "16000/16000 [==============================] - 40s 2ms/step - loss: 1.0103 - acc: 0.7392 - val_loss: 3.7181 - val_acc: 0.4898\n",
            "\n",
            "Epoch 00012: val_loss improved from 3.72189 to 3.71807, saving model to Weights-012--3.71807.hdf5\n",
            "Epoch 13/30\n",
            "16000/16000 [==============================] - 40s 3ms/step - loss: 0.8649 - acc: 0.7675 - val_loss: 3.7142 - val_acc: 0.4935\n",
            "\n",
            "Epoch 00013: val_loss improved from 3.71807 to 3.71418, saving model to Weights-013--3.71418.hdf5\n",
            "Epoch 14/30\n",
            "16000/16000 [==============================] - 40s 3ms/step - loss: 0.7478 - acc: 0.7912 - val_loss: 3.7425 - val_acc: 0.4926\n",
            "\n",
            "Epoch 00014: val_loss did not improve from 3.71418\n",
            "Epoch 15/30\n",
            "16000/16000 [==============================] - 40s 2ms/step - loss: 0.6556 - acc: 0.8088 - val_loss: 3.7257 - val_acc: 0.4983\n",
            "\n",
            "Epoch 00015: val_loss did not improve from 3.71418\n",
            "Epoch 16/30\n",
            "16000/16000 [==============================] - 41s 3ms/step - loss: 0.5843 - acc: 0.8221 - val_loss: 3.7487 - val_acc: 0.4996\n",
            "\n",
            "Epoch 00016: val_loss did not improve from 3.71418\n",
            "Epoch 17/30\n",
            "16000/16000 [==============================] - 40s 2ms/step - loss: 0.5237 - acc: 0.8347 - val_loss: 3.7634 - val_acc: 0.5046\n",
            "\n",
            "Epoch 00017: val_loss did not improve from 3.71418\n",
            "Epoch 18/30\n",
            "16000/16000 [==============================] - 40s 3ms/step - loss: 0.4777 - acc: 0.8421 - val_loss: 3.7792 - val_acc: 0.5022\n",
            "\n",
            "Epoch 00018: val_loss did not improve from 3.71418\n",
            "Epoch 19/30\n",
            "16000/16000 [==============================] - 40s 2ms/step - loss: 0.4391 - acc: 0.8493 - val_loss: 3.8071 - val_acc: 0.5030\n",
            "\n",
            "Epoch 00019: val_loss did not improve from 3.71418\n",
            "Epoch 20/30\n",
            "16000/16000 [==============================] - 40s 3ms/step - loss: 0.4085 - acc: 0.8543 - val_loss: 3.8415 - val_acc: 0.5035\n",
            "\n",
            "Epoch 00020: val_loss did not improve from 3.71418\n",
            "Epoch 21/30\n",
            "16000/16000 [==============================] - 40s 3ms/step - loss: 0.3852 - acc: 0.8594 - val_loss: 3.8434 - val_acc: 0.5047\n",
            "\n",
            "Epoch 00021: val_loss did not improve from 3.71418\n",
            "Epoch 22/30\n",
            "16000/16000 [==============================] - 39s 2ms/step - loss: 0.3655 - acc: 0.8619 - val_loss: 3.8500 - val_acc: 0.5061\n",
            "\n",
            "Epoch 00022: val_loss did not improve from 3.71418\n",
            "Epoch 23/30\n",
            "16000/16000 [==============================] - 40s 2ms/step - loss: 0.3472 - acc: 0.8664 - val_loss: 3.8858 - val_acc: 0.5039\n",
            "\n",
            "Epoch 00023: val_loss did not improve from 3.71418\n",
            "Epoch 24/30\n",
            "16000/16000 [==============================] - 40s 2ms/step - loss: 0.3342 - acc: 0.8675 - val_loss: 3.9197 - val_acc: 0.5094\n",
            "\n",
            "Epoch 00024: val_loss did not improve from 3.71418\n",
            "Epoch 25/30\n",
            "16000/16000 [==============================] - 40s 3ms/step - loss: 0.3239 - acc: 0.8671 - val_loss: 3.9237 - val_acc: 0.5074\n",
            "\n",
            "Epoch 00025: val_loss did not improve from 3.71418\n",
            "Epoch 26/30\n",
            "16000/16000 [==============================] - 39s 2ms/step - loss: 0.3132 - acc: 0.8702 - val_loss: 3.9269 - val_acc: 0.5084\n",
            "\n",
            "Epoch 00026: val_loss did not improve from 3.71418\n",
            "Epoch 27/30\n",
            "16000/16000 [==============================] - 39s 2ms/step - loss: 0.3046 - acc: 0.8717 - val_loss: 3.9604 - val_acc: 0.5081\n",
            "\n",
            "Epoch 00027: val_loss did not improve from 3.71418\n",
            "Epoch 28/30\n",
            "16000/16000 [==============================] - 40s 3ms/step - loss: 0.3002 - acc: 0.8711 - val_loss: 3.9914 - val_acc: 0.5072\n",
            "\n",
            "Epoch 00028: val_loss did not improve from 3.71418\n",
            "Epoch 29/30\n",
            "16000/16000 [==============================] - 39s 2ms/step - loss: 0.2918 - acc: 0.8729 - val_loss: 3.9936 - val_acc: 0.5072\n",
            "\n",
            "Epoch 00029: val_loss did not improve from 3.71418\n",
            "Epoch 30/30\n",
            "16000/16000 [==============================] - 40s 2ms/step - loss: 0.2859 - acc: 0.8731 - val_loss: 4.0245 - val_acc: 0.5045\n",
            "\n",
            "Epoch 00030: val_loss did not improve from 3.71418\n"
          ],
          "name": "stdout"
        }
      ]
    },
    {
      "cell_type": "code",
      "metadata": {
        "id": "DBqbbTIbsQKb",
        "colab_type": "code",
        "outputId": "9eef7f17-3008-401a-9f84-2f44453495a2",
        "colab": {
          "base_uri": "https://localhost:8080/",
          "height": 265
        }
      },
      "source": [
        "# plot some data\n",
        "plt.plot(r.history['loss'], label='loss')\n",
        "plt.plot(r.history['val_loss'], label='val_loss')\n",
        "plt.legend()\n",
        "plt.show()\n",
        "\n",
        "\n"
      ],
      "execution_count": 43,
      "outputs": [
        {
          "output_type": "display_data",
          "data": {
            "image/png": "[encoded data removed]",
            "text/plain": [
              "<Figure size 432x288 with 1 Axes>"
            ]
          },
          "metadata": {
            "tags": [],
            "needs_background": "light"
          }
        }
      ]
    },
    {
      "cell_type": "code",
      "metadata": {
        "id": "FFNEu6rL11Ey",
        "colab_type": "code",
        "outputId": "753941d2-67f0-4df1-cad8-614646076bff",
        "colab": {
          "base_uri": "https://localhost:8080/",
          "height": 268
        }
      },
      "source": [
        "# accuracies\n",
        "plt.plot(r.history['acc'], label='acc')\n",
        "plt.plot(r.history['val_acc'], label='val_acc')\n",
        "plt.legend()\n",
        "plt.show()"
      ],
      "execution_count": 44,
      "outputs": [
        {
          "output_type": "display_data",
          "data": {
            "image/png": "[encoded data removed]",
            "text/plain": [
              "<Figure size 432x288 with 1 Axes>"
            ]
          },
          "metadata": {
            "tags": [],
            "needs_background": "light"
          }
        }
      ]
    },
    {
      "cell_type": "markdown",
      "metadata": {
        "id": "ZNAxPQ1m2Eo8",
        "colab_type": "text"
      },
      "source": [
        "# **Prediction**"
      ]
    },
    {
      "cell_type": "code",
      "metadata": {
        "id": "w6gIgLoB2IPE",
        "colab_type": "code",
        "colab": {}
      },
      "source": [
        "encoder_model = Model(encoder_inputs_placeholder, encoder_outputs)\n"
      ],
      "execution_count": 0,
      "outputs": []
    },
    {
      "cell_type": "code",
      "metadata": {
        "id": "Ac1VAMOf2ads",
        "colab_type": "code",
        "colab": {}
      },
      "source": [
        "encoder_outputs_as_input = Input(shape=(max_len_input, LATENT_DIM * 2,))\n",
        "decoder_inputs_single = Input(shape=(1,))\n",
        "decoder_inputs_single_x = decoder_embedding(decoder_inputs_single)\n"
      ],
      "execution_count": 0,
      "outputs": []
    },
    {
      "cell_type": "code",
      "metadata": {
        "id": "qHUFsJ0a2cdr",
        "colab_type": "code",
        "colab": {}
      },
      "source": [
        "context = one_step_attention(encoder_outputs_as_input, initial_s)"
      ],
      "execution_count": 0,
      "outputs": []
    },
    {
      "cell_type": "code",
      "metadata": {
        "id": "1Nbdo7Wn2hHU",
        "colab_type": "code",
        "colab": {}
      },
      "source": [
        "decoder_lstm_input = context_last_word_concat_layer([context, decoder_inputs_single_x])"
      ],
      "execution_count": 0,
      "outputs": []
    },
    {
      "cell_type": "code",
      "metadata": {
        "id": "n7CzAuCu2jz9",
        "colab_type": "code",
        "colab": {}
      },
      "source": [
        "o, s, c = decoder_lstm(decoder_lstm_input, initial_state=[initial_s, initial_c])\n",
        "decoder_outputs = decoder_dense(o)"
      ],
      "execution_count": 0,
      "outputs": []
    },
    {
      "cell_type": "code",
      "metadata": {
        "id": "KiO6QW0B2m6M",
        "colab_type": "code",
        "colab": {}
      },
      "source": [
        "decoder_model = Model(\n",
        "  inputs=[\n",
        "    decoder_inputs_single,\n",
        "    encoder_outputs_as_input,\n",
        "    initial_s, \n",
        "    initial_c\n",
        "  ],\n",
        "  outputs=[decoder_outputs, s, c]\n",
        ")"
      ],
      "execution_count": 0,
      "outputs": []
    },
    {
      "cell_type": "code",
      "metadata": {
        "id": "nSJ826512qFV",
        "colab_type": "code",
        "colab": {}
      },
      "source": [
        "idx2word_eng = {v:k for k, v in word2idx_inputs.items()}\n",
        "idx2word_trans = {v:k for k, v in word2idx_outputs.items()}"
      ],
      "execution_count": 0,
      "outputs": []
    },
    {
      "cell_type": "code",
      "metadata": {
        "id": "JioIxs1m2uQr",
        "colab_type": "code",
        "colab": {}
      },
      "source": [
        "def decode_sequence(input_seq):\n",
        "  enc_out = encoder_model.predict(input_seq)\n",
        "\n",
        "  target_seq = np.zeros((1, 1))\n",
        "  \n",
        "  target_seq[0, 0] = word2idx_outputs['<sos>']\n",
        "\n",
        "  eos = word2idx_outputs['<eos>']\n",
        "\n",
        "  s = np.zeros((1, LATENT_DIM_DECODER))\n",
        "  c = np.zeros((1, LATENT_DIM_DECODER))\n",
        "\n",
        "  output_sentence = []\n",
        "  for _ in range(max_len_target):\n",
        "    o, s, c = decoder_model.predict([target_seq, enc_out, s, c])\n",
        "        \n",
        "\n",
        "    # Get next word\n",
        "    idx = np.argmax(o.flatten())\n",
        "\n",
        "    if eos == idx:\n",
        "      break\n",
        "\n",
        "    word = ''\n",
        "    if idx > 0:\n",
        "      word = idx2word_trans[idx]\n",
        "      output_sentence.append(word)\n",
        "\n",
        "    target_seq[0, 0] = idx\n",
        "\n",
        "  return ' '.join(output_sentence)"
      ],
      "execution_count": 0,
      "outputs": []
    },
    {
      "cell_type": "code",
      "metadata": {
        "id": "oy0tIEhY23Ok",
        "colab_type": "code",
        "colab": {
          "base_uri": "https://localhost:8080/",
          "height": 527
        },
        "outputId": "c4f4166b-1343-4bbf-f880-8a3dd4746eed"
      },
      "source": [
        "while True:\n",
        "\n",
        "\n",
        "  num = input (\"Enter English :\") \n",
        "  a = []\n",
        "  a.append(num)\n",
        "  # print(a[0])\n",
        "  a = tokenizer_inputs.texts_to_sequences(a)\n",
        "  a = pad_sequences(a, maxlen=max_len_input)\n",
        "  translation = decode_sequence(a)\n",
        "  print(\"French - \", translation)\n",
        "  ans = input(\"Continue? [Y/n]\")\n",
        "  print('\\n')\n",
        "  if ans and ans.lower().startswith('n'):\n",
        "    break\n"
      ],
      "execution_count": 54,
      "outputs": [
        {
          "output_type": "stream",
          "text": [
            "Enter English :i love you\n",
            "French -  je t'adore.\n",
            "Continue? [Y/n]where are you going\n",
            "\n",
            "\n",
            "Enter English :where are you going\n",
            "French -  où y y est-il ?\n",
            "Continue? [Y/n]y\n",
            "\n",
            "\n",
            "Enter English :awsome work\n",
            "French -  à l'aide !\n",
            "Continue? [Y/n]y\n",
            "\n",
            "\n",
            "Enter English :help\n",
            "French -  à l'aide !\n",
            "Continue? [Y/n]y\n",
            "\n",
            "\n",
            "Enter English : where is he there\n",
            "French -  où est-il là ?\n",
            "Continue? [Y/n]y\n",
            "\n",
            "\n",
            "Enter English :i love mathematics\n",
            "French -  j'apprécie ça.\n",
            "Continue? [Y/n]n\n",
            "\n",
            "\n"
          ],
          "name": "stdout"
        }
      ]
    },
    {
      "cell_type": "code",
      "metadata": {
        "id": "Pk85UjcL26u8",
        "colab_type": "code",
        "colab": {}
      },
      "source": [
        ""
      ],
      "execution_count": 0,
      "outputs": []
    }
  ]
}